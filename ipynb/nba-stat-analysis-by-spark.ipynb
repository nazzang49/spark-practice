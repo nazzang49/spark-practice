{
 "cells": [
  {
   "cell_type": "markdown",
   "id": "82f633b9",
   "metadata": {},
   "source": [
    "# Analysis Practice on NBA Players with Spark\n",
    "- [**Dataset**](https://www.kaggle.com/datasets/justinas/nba-players-data?resource=download)\n",
    "- Useful Functions\n",
    "    - **Dataframe**\n",
    "        - select\n",
    "        - filter\n",
    "        - sort\n",
    "        - agg\n",
    "        - groupby\n",
    "        - join\n",
    "        - drop\n",
    "        - distinct\n",
    "        - dropna\n",
    "        - fillna\n",
    "    - **Column**\n",
    "        - alias\n",
    "        - cast\n",
    "        - between\n",
    "        - contains\n",
    "        - isnull & isnotnull\n",
    "        - isin\n",
    "        - ilike\n",
    "            - `Spark >= v3.1.0`\n",
    "    - [**Functions**](https://spark.apache.org/docs/latest/api/python/reference/pyspark.sql/functions.html)"
   ]
  },
  {
   "cell_type": "code",
   "execution_count": 56,
   "id": "42c1c1c6",
   "metadata": {},
   "outputs": [],
   "source": [
    "from pyspark.sql.functions import *\n",
    "from pyspark.sql.types import *\n",
    "from pyspark.sql import SparkSession\n",
    "from pyspark.sql.window import Window\n",
    "\n",
    "import pprint"
   ]
  },
  {
   "cell_type": "code",
   "execution_count": 3,
   "id": "fd97f921",
   "metadata": {},
   "outputs": [
    {
     "name": "stderr",
     "output_type": "stream",
     "text": [
      "Using Spark's default log4j profile: org/apache/spark/log4j-defaults.properties\n",
      "Setting default log level to \"WARN\".\n",
      "To adjust logging level use sc.setLogLevel(newLevel). For SparkR, use setLogLevel(newLevel).\n",
      "23/07/14 13:03:01 WARN NativeCodeLoader: Unable to load native-hadoop library for your platform... using builtin-java classes where applicable\n"
     ]
    }
   ],
   "source": [
    "spark = (\n",
    "    SparkSession.builder\n",
    "    .master(\"local\")\n",
    "    .appName(\"analysis_nba_players\")\n",
    "    .getOrCreate()\n",
    ")"
   ]
  },
  {
   "cell_type": "code",
   "execution_count": 4,
   "id": "ac42e720",
   "metadata": {},
   "outputs": [
    {
     "data": {
      "text/plain": [
       "'3.2.0'"
      ]
     },
     "execution_count": 4,
     "metadata": {},
     "output_type": "execute_result"
    }
   ],
   "source": [
    "spark.version"
   ]
  },
  {
   "cell_type": "code",
   "execution_count": null,
   "id": "3945a8b4",
   "metadata": {},
   "outputs": [],
   "source": [
    "df = spark.read.format(\"csv\").option(\"header\", \"true\").load(\"all_seasons.csv\")"
   ]
  },
  {
   "cell_type": "code",
   "execution_count": null,
   "id": "e12be00d",
   "metadata": {},
   "outputs": [],
   "source": [
    "df = df.drop(\"_c0\")"
   ]
  },
  {
   "cell_type": "markdown",
   "id": "ec83ab5e",
   "metadata": {},
   "source": [
    "## Analysis"
   ]
  },
  {
   "cell_type": "markdown",
   "id": "d7f5bb19",
   "metadata": {},
   "source": [
    "### (DataFrame) Descending Order on Country"
   ]
  },
  {
   "cell_type": "code",
   "execution_count": null,
   "id": "4cbafcc5",
   "metadata": {},
   "outputs": [],
   "source": [
    "df.groupby(\"country\").count().sort(desc(\"count\")).show()"
   ]
  },
  {
   "cell_type": "markdown",
   "id": "47e9edea",
   "metadata": {},
   "source": [
    "### (DataFrame) Top Scorer Every Seasons\n",
    "- gp = game-played\n",
    "- pts = points"
   ]
  },
  {
   "cell_type": "code",
   "execution_count": null,
   "id": "68db9db6",
   "metadata": {},
   "outputs": [],
   "source": [
    "df.filter(df.player_name == \"Dennis Rodman\").count()"
   ]
  },
  {
   "cell_type": "code",
   "execution_count": null,
   "id": "182b81cd",
   "metadata": {},
   "outputs": [],
   "source": [
    "df_tmp = df.select(\"player_name\", expr(\"gp * pts as total_score\"), \"season\")"
   ]
  },
  {
   "cell_type": "code",
   "execution_count": null,
   "id": "d60082e9",
   "metadata": {},
   "outputs": [],
   "source": [
    "df_tmp.show()"
   ]
  },
  {
   "cell_type": "code",
   "execution_count": null,
   "id": "6dfac417",
   "metadata": {},
   "outputs": [],
   "source": [
    "df_tmp.select(\"player_name\").distinct().count()"
   ]
  },
  {
   "cell_type": "code",
   "execution_count": null,
   "id": "79ca109c",
   "metadata": {},
   "outputs": [],
   "source": [
    "(df_tmp\n",
    "     .groupby(\"season\")\n",
    "     .agg(max(\"total_score\"), first(\"player_name\"))\n",
    "     .withColumnRenamed(\"max(total_score)\", \"top_score\")\n",
    "     .withColumnRenamed(\"first(player_name, false)\", \"player_name\")\n",
    "     .sort(desc(\"season\"))\n",
    "     .show())"
   ]
  },
  {
   "cell_type": "code",
   "execution_count": null,
   "id": "261712d7",
   "metadata": {},
   "outputs": [],
   "source": [
    "df_tmp.select(\"season\").distinct().sort(desc(\"season\")).count()"
   ]
  },
  {
   "cell_type": "markdown",
   "id": "fe39a667",
   "metadata": {},
   "source": [
    "### (DataFrame) Check Specific Player"
   ]
  },
  {
   "cell_type": "code",
   "execution_count": null,
   "id": "607f3513",
   "metadata": {},
   "outputs": [],
   "source": [
    "df.filter((df.player_name.contains(\"Steph\")) & (df.player_name.contains(\"Curry\"))).show()"
   ]
  },
  {
   "cell_type": "markdown",
   "id": "44397ac8",
   "metadata": {},
   "source": [
    "### (Column) Load Dataset with Fixed Schema\n",
    "- All-Types to StringType is `Possible`\n",
    "- StringType to All-Types is `Impossible`\n",
    "    - by Manual Casting"
   ]
  },
  {
   "cell_type": "code",
   "execution_count": null,
   "id": "8e1b4791",
   "metadata": {},
   "outputs": [],
   "source": [
    "# alias\n",
    "\n",
    "# df.select(expr(\"player_name as player\")).show()\n",
    "# df.select(df.player_name.alias(\"player\")).show()"
   ]
  },
  {
   "cell_type": "code",
   "execution_count": null,
   "id": "b009db70",
   "metadata": {},
   "outputs": [],
   "source": [
    "# return null-contained row first or last\n",
    "\n",
    "# df.select(\"*\").orderBy(df.player_name.asc_nulls_first()).show()\n",
    "# df.select(\"*\").orderBy(df.player_name.asc_nulls_last()).show()"
   ]
  },
  {
   "cell_type": "code",
   "execution_count": null,
   "id": "4dfbd3f8",
   "metadata": {},
   "outputs": [],
   "source": [
    "# df.columns"
   ]
  },
  {
   "cell_type": "code",
   "execution_count": 8,
   "id": "b660f480",
   "metadata": {},
   "outputs": [],
   "source": [
    "string_cols = [\n",
    "    'player_name',\n",
    "    'team_abbreviation',\n",
    "    'college',\n",
    "    'country',\n",
    "    'draft_year',\n",
    "    'season'\n",
    "]\n",
    "\n",
    "integer_cols = [\n",
    "    'age',\n",
    "    'draft_round',\n",
    "    'draft_number',\n",
    "    'gp',\n",
    "    'pts'\n",
    "]\n",
    "\n",
    "double_cols = [\n",
    "    'player_height',\n",
    "    'player_weight',\n",
    "    'reb',\n",
    "    'ast',\n",
    "    'net_rating',\n",
    "    'oreb_pct',\n",
    "    'dreb_pct',\n",
    "    'usg_pct',\n",
    "    'ts_pct',\n",
    "    'ast_pct'\n",
    "]"
   ]
  },
  {
   "cell_type": "code",
   "execution_count": 9,
   "id": "d5bc6c08",
   "metadata": {},
   "outputs": [],
   "source": [
    "fixed_schema = []\n",
    "for col in df.schema:\n",
    "    if col.name in string_cols:\n",
    "        data_type = StringType()\n",
    "    elif col.name in integer_cols:\n",
    "        data_type = IntegerType()\n",
    "    elif col.name in double_cols:\n",
    "        data_type = DoubleType()\n",
    "    else:\n",
    "        raise ValueError(f\"[NOT_FOUND_DATA_TYPE]COLUMN::{col}\")\n",
    "    fixed_schema.append(StructField(name=col.name, dataType=data_type, nullable=True))"
   ]
  },
  {
   "cell_type": "code",
   "execution_count": 10,
   "id": "ea7641be",
   "metadata": {},
   "outputs": [],
   "source": [
    "fixed_schema = StructType(fixed_schema)"
   ]
  },
  {
   "cell_type": "code",
   "execution_count": 11,
   "id": "0fa76f39",
   "metadata": {},
   "outputs": [
    {
     "data": {
      "text/plain": [
       "StructType(List(StructField(player_name,StringType,true),StructField(team_abbreviation,StringType,true),StructField(age,IntegerType,true),StructField(player_height,DoubleType,true),StructField(player_weight,DoubleType,true),StructField(college,StringType,true),StructField(country,StringType,true),StructField(draft_year,StringType,true),StructField(draft_round,IntegerType,true),StructField(draft_number,IntegerType,true),StructField(gp,IntegerType,true),StructField(pts,IntegerType,true),StructField(reb,DoubleType,true),StructField(ast,DoubleType,true),StructField(net_rating,DoubleType,true),StructField(oreb_pct,DoubleType,true),StructField(dreb_pct,DoubleType,true),StructField(usg_pct,DoubleType,true),StructField(ts_pct,DoubleType,true),StructField(ast_pct,DoubleType,true),StructField(season,StringType,true)))"
      ]
     },
     "execution_count": 11,
     "metadata": {},
     "output_type": "execute_result"
    }
   ],
   "source": [
    "fixed_schema"
   ]
  },
  {
   "cell_type": "code",
   "execution_count": 12,
   "id": "15ff3651",
   "metadata": {},
   "outputs": [],
   "source": [
    "# 1. load\n",
    "# df = spark.read.format(\"csv\").option(\"header\", \"true\").load(\"all_seasons.csv\")"
   ]
  },
  {
   "cell_type": "code",
   "execution_count": 13,
   "id": "e62c521f",
   "metadata": {},
   "outputs": [],
   "source": [
    "# 2. drop unused columns\n",
    "# drop_cols = [\n",
    "#     \"_c0\"\n",
    "# ]\n",
    "\n",
    "# df = df.drop(*drop_cols)"
   ]
  },
  {
   "cell_type": "code",
   "execution_count": 14,
   "id": "d5a588d8",
   "metadata": {},
   "outputs": [],
   "source": [
    "# 3. apply fixed-schema\n",
    "# df_tmp = spark.createDataFrame(df.rdd, fixed_schema)"
   ]
  },
  {
   "cell_type": "code",
   "execution_count": 15,
   "id": "1d3802af",
   "metadata": {},
   "outputs": [],
   "source": [
    "# df_tmp.printSchema()"
   ]
  },
  {
   "cell_type": "markdown",
   "id": "d81d1f1b",
   "metadata": {},
   "source": [
    "### (Optional) Manual Casting\n",
    "- e.g. `String Value to IntegerType()`"
   ]
  },
  {
   "cell_type": "code",
   "execution_count": 16,
   "id": "46b08ccf",
   "metadata": {},
   "outputs": [],
   "source": [
    "# test\n",
    "\n",
    "# schema = StructType([\n",
    "#     StructField(\"age\", StringType(), True),\n",
    "#     StructField(\"region\", StringType(), True)\n",
    "# ])\n",
    "\n",
    "# df = spark.createDataFrame([(2, \"30\"), (5, \"40\")], schema=schema)\n",
    "# df = df.withColumn(\"region\", df.region.cast(\"integer\"))"
   ]
  },
  {
   "cell_type": "code",
   "execution_count": 90,
   "id": "4c804e0d",
   "metadata": {},
   "outputs": [],
   "source": [
    "df = spark.read.format(\"csv\").option(\"header\", \"true\").load(\"all_seasons.csv\").drop(\"_c0\")"
   ]
  },
  {
   "cell_type": "code",
   "execution_count": 91,
   "id": "87f97f84",
   "metadata": {},
   "outputs": [],
   "source": [
    "for col in df.columns:\n",
    "    if col in string_cols:\n",
    "        data_type = \"string\"\n",
    "    elif col in integer_cols:\n",
    "        data_type = \"integer\"\n",
    "    elif col in double_cols:\n",
    "        data_type = \"double\"\n",
    "    else:\n",
    "        raise ValueError(f\"[NOT_FOUND_DATA_TYPE]COLUMN::{col}\")\n",
    "    df = df.withColumn(col, df[col].cast(data_type))"
   ]
  },
  {
   "cell_type": "code",
   "execution_count": 92,
   "id": "f558e080",
   "metadata": {},
   "outputs": [
    {
     "name": "stdout",
     "output_type": "stream",
     "text": [
      "[Row(player_name='Dennis Rodman', team_abbreviation='CHI', age=36, player_height=198.12, player_weight=99.79024, college='Southeastern Oklahoma State', country='USA', draft_year='1986', draft_round=2, draft_number=27, gp=55, pts=5, reb=16.1, ast=3.1, net_rating=16.1, oreb_pct=0.18600000000000003, dreb_pct=0.32299999999999995, usg_pct=0.1, ts_pct=0.479, ast_pct=0.113, season='1996-97')]\n"
     ]
    }
   ],
   "source": [
    "pprint.pprint(df.take(1))"
   ]
  },
  {
   "cell_type": "code",
   "execution_count": 93,
   "id": "ea5ac984",
   "metadata": {},
   "outputs": [
    {
     "name": "stdout",
     "output_type": "stream",
     "text": [
      "+---+-----+\n",
      "|age|count|\n",
      "+---+-----+\n",
      "| 30|  711|\n",
      "| 29|  785|\n",
      "| 28|  868|\n",
      "| 27|  972|\n",
      "| 26| 1015|\n",
      "| 25| 1141|\n",
      "| 24| 1277|\n",
      "| 23| 1164|\n",
      "| 22|  771|\n",
      "| 21|  500|\n",
      "| 20|  286|\n",
      "+---+-----+\n",
      "\n"
     ]
    }
   ],
   "source": [
    "# counts on age 20 - 30\n",
    "df.filter(df.age.between(20, 30)).groupby(\"age\").count().sort(desc(\"age\")).show()"
   ]
  },
  {
   "cell_type": "markdown",
   "id": "031c858a",
   "metadata": {},
   "source": [
    "### (Column) Add New Struct Column with Other Columns\n",
    "- Add\n",
    "- Casting Fields\n",
    "    - `Spark >= v3.1.0`\n",
    "- Drop\n",
    "    - `Spark >= v3.1.0`"
   ]
  },
  {
   "cell_type": "code",
   "execution_count": 94,
   "id": "019b7a09",
   "metadata": {},
   "outputs": [],
   "source": [
    "df = df.withColumn(\"player_info\", struct(df.player_name, df.player_height, df.player_weight))"
   ]
  },
  {
   "cell_type": "code",
   "execution_count": 95,
   "id": "0b313aa3",
   "metadata": {},
   "outputs": [
    {
     "data": {
      "text/plain": [
       "[Row(player_name='Dennis Rodman')]"
      ]
     },
     "execution_count": 95,
     "metadata": {},
     "output_type": "execute_result"
    }
   ],
   "source": [
    "df.select(\"player_info.player_name\").head(1)"
   ]
  },
  {
   "cell_type": "code",
   "execution_count": 96,
   "id": "f2948445",
   "metadata": {},
   "outputs": [],
   "source": [
    "# (!) spark version issue\n",
    "# df.withColumn(\"player_info\", df.player_info.withField(\"player_height\", df.player_info.player_height.cast(\"string\"))).printSchema()"
   ]
  },
  {
   "cell_type": "code",
   "execution_count": 97,
   "id": "6f5d83ea",
   "metadata": {},
   "outputs": [],
   "source": [
    "# (!) spark version issue\n",
    "# df.withColumn(\"player_info\", df.player_info.dropFields(\"player_height\")).printSchema()"
   ]
  },
  {
   "cell_type": "code",
   "execution_count": 98,
   "id": "18d64819",
   "metadata": {},
   "outputs": [],
   "source": [
    "# startswith & endswith\n",
    "\n",
    "# df.filter(df.player_info.player_name.endswith(\"Curry\")).show()\n",
    "# df.filter(df.player_info.player_name.startswith(\"Curry\")).show()"
   ]
  },
  {
   "cell_type": "code",
   "execution_count": 99,
   "id": "a55aa85a",
   "metadata": {},
   "outputs": [],
   "source": [
    "# isin\n",
    "\n",
    "# df.filter(df.player_name.isin([\"Stephen Curry\", \"Dennis Rodman\"])).show()"
   ]
  },
  {
   "cell_type": "code",
   "execution_count": 100,
   "id": "2d15dd38",
   "metadata": {},
   "outputs": [],
   "source": [
    "# like\n",
    "\n",
    "# df.filter(df.player_name.like(\"%Stephen%\")).show()"
   ]
  },
  {
   "cell_type": "markdown",
   "id": "f4061434",
   "metadata": {},
   "source": [
    "### (Column) Case When Then Else\n",
    "- with `substr()`"
   ]
  },
  {
   "cell_type": "code",
   "execution_count": 101,
   "id": "ea5c43f1",
   "metadata": {},
   "outputs": [
    {
     "name": "stdout",
     "output_type": "stream",
     "text": [
      "+---+---------------------+\n",
      "|age|converted_player_name|\n",
      "+---+---------------------+\n",
      "| 26|       Stephen Howard|\n",
      "| 27|       Stephen Howard|\n",
      "| 23|      Stephen Jackson|\n",
      "| 24|      Stephen Jackson|\n",
      "| 25|      Stephen Jackson|\n",
      "| 26|      Stephen Jackson|\n",
      "| 27|      Stephen Jackson|\n",
      "| 24|       Stephen Graham|\n",
      "| 28|      Stephen Jackson|\n",
      "| 29|      Stephen Jackson|\n",
      "| 25|       Stephen Graham|\n",
      "| 26|       Stephen Graham|\n",
      "| 30|      Stephen Jackson|\n",
      "| 31|      Stephen Jackson|\n",
      "| 27|       Stephen Graham|\n",
      "| 32|      Stephen Jackson|\n",
      "| 28|       Stephen Graham|\n",
      "| 22|             Jay Park|\n",
      "| 33|      Stephen Jackson|\n",
      "| 29|       Stephen Graham|\n",
      "+---+---------------------+\n",
      "only showing top 20 rows\n",
      "\n"
     ]
    }
   ],
   "source": [
    "(df\n",
    " .filter(df.player_name.substr(1, 10).like(\"%Stephen%\"))\n",
    " .select(df.age, when(df.player_name == \"Stephen Curry\", \"Jay Park\").otherwise(df.player_name).alias(\"converted_player_name\"))\n",
    " .show())"
   ]
  },
  {
   "cell_type": "markdown",
   "id": "9fd81d0e",
   "metadata": {},
   "source": [
    "### (Function) Add New Column with Literal\n",
    "- List Support\n",
    "    - `Spark >= v3.4.0`"
   ]
  },
  {
   "cell_type": "code",
   "execution_count": 102,
   "id": "fe23f4b7",
   "metadata": {},
   "outputs": [
    {
     "data": {
      "text/plain": [
       "[Row(lit_col=1, player_name='Dennis Rodman')]"
      ]
     },
     "execution_count": 102,
     "metadata": {},
     "output_type": "execute_result"
    }
   ],
   "source": [
    "df.select(lit(1).alias(\"lit_col\"), \"player_name\").head(1)"
   ]
  },
  {
   "cell_type": "code",
   "execution_count": 103,
   "id": "1cf121cb",
   "metadata": {},
   "outputs": [],
   "source": [
    "# List Support\n",
    "\n",
    "# df.select(lit([1, 2, 3]).alias(\"lit_col\"), \"player_name\").head(1)"
   ]
  },
  {
   "cell_type": "markdown",
   "id": "c548f37d",
   "metadata": {},
   "source": [
    "### (Function) Broadcast Join Test\n",
    "- Check Column Name Duplication before Join"
   ]
  },
  {
   "cell_type": "code",
   "execution_count": 104,
   "id": "04405259",
   "metadata": {},
   "outputs": [],
   "source": [
    "df_small = df.limit(100)"
   ]
  },
  {
   "cell_type": "code",
   "execution_count": 105,
   "id": "a2c6e87f",
   "metadata": {},
   "outputs": [],
   "source": [
    "df_cols = set(df.columns)"
   ]
  },
  {
   "cell_type": "code",
   "execution_count": 106,
   "id": "f6c92446",
   "metadata": {},
   "outputs": [],
   "source": [
    "df_small_cols = set(df_small.columns)"
   ]
  },
  {
   "cell_type": "code",
   "execution_count": 107,
   "id": "5c547bfd",
   "metadata": {},
   "outputs": [
    {
     "data": {
      "text/plain": [
       "{'age',\n",
       " 'ast',\n",
       " 'ast_pct',\n",
       " 'college',\n",
       " 'country',\n",
       " 'draft_number',\n",
       " 'draft_round',\n",
       " 'draft_year',\n",
       " 'dreb_pct',\n",
       " 'gp',\n",
       " 'net_rating',\n",
       " 'oreb_pct',\n",
       " 'player_height',\n",
       " 'player_info',\n",
       " 'player_name',\n",
       " 'player_weight',\n",
       " 'pts',\n",
       " 'reb',\n",
       " 'season',\n",
       " 'team_abbreviation',\n",
       " 'ts_pct',\n",
       " 'usg_pct'}"
      ]
     },
     "execution_count": 107,
     "metadata": {},
     "output_type": "execute_result"
    }
   ],
   "source": [
    "# intersection = function of python list\n",
    "\n",
    "duplicated_cols = df_cols.intersection(df_small_cols)\n",
    "duplicated_cols"
   ]
  },
  {
   "cell_type": "code",
   "execution_count": 108,
   "id": "90cf5108",
   "metadata": {},
   "outputs": [],
   "source": [
    "# change duplicated to unique\n",
    "\n",
    "# for duplicated_col in duplicated_cols:\n",
    "#     df = df.withColumnRenamed(duplicated_col, f\"org_{duplicated_col}\")\n",
    "#     df = df.withColumnRenamed(f\"org_{duplicated_col}\", duplicated_col)"
   ]
  },
  {
   "cell_type": "code",
   "execution_count": 109,
   "id": "a8d4ca4c",
   "metadata": {},
   "outputs": [],
   "source": [
    "# df_b = broadcast(df_small)\n",
    "# df_join = df.join(df_b, on=[\"player_name\"], how=\"inner\").select(\"*\")"
   ]
  },
  {
   "cell_type": "markdown",
   "id": "88ab7b7c",
   "metadata": {},
   "source": [
    "### (Function) Check NaN & Null Values"
   ]
  },
  {
   "cell_type": "code",
   "execution_count": 110,
   "id": "d01d24fe",
   "metadata": {},
   "outputs": [
    {
     "name": "stdout",
     "output_type": "stream",
     "text": [
      "+-----------------+-------------+---------+--------------+\n",
      "|      player_name|player_height|is_nan_gp|is_null_season|\n",
      "+-----------------+-------------+---------+--------------+\n",
      "|    Dennis Rodman|       198.12|    false|         false|\n",
      "|Dwayne Schintzius|        215.9|    false|         false|\n",
      "|     Earl Cureton|       205.74|    false|         false|\n",
      "|      Ed O'Bannon|        203.2|    false|         false|\n",
      "|      Ed Pinckney|       205.74|    false|         false|\n",
      "|    Eddie Johnson|       200.66|    false|         false|\n",
      "|      Eddie Jones|       198.12|    false|         false|\n",
      "|   Elden Campbell|       213.36|    false|         false|\n",
      "|Eldridge Recasner|       193.04|    false|         false|\n",
      "|     Elliot Perry|       182.88|    false|         false|\n",
      "|    Elmer Bennett|       182.88|    false|         false|\n",
      "|   Elmore Spencer|       213.36|    false|         false|\n",
      "|    Emanual Davis|       195.58|    false|         false|\n",
      "|    Ennis Whatley|        190.5|    false|         false|\n",
      "|     Eric Leckner|       210.82|    false|         false|\n",
      "|      Eric Mobley|       210.82|    false|         false|\n",
      "|    Eric Montross|       213.36|    false|         false|\n",
      "|     Eric Murdock|       185.42|    false|         false|\n",
      "|  Eric Piatkowski|       200.66|    false|         false|\n",
      "|        Eric Snow|        190.5|    false|         false|\n",
      "+-----------------+-------------+---------+--------------+\n",
      "only showing top 20 rows\n",
      "\n"
     ]
    }
   ],
   "source": [
    "df.select(\"player_name\", \"player_height\", isnan(\"gp\").alias(\"is_nan_gp\"), isnull(\"season\").alias(\"is_null_season\")).show()"
   ]
  },
  {
   "cell_type": "code",
   "execution_count": 111,
   "id": "3f98a0b2",
   "metadata": {},
   "outputs": [],
   "source": [
    "# check # of partition of row\n",
    "\n",
    "# df.repartition(1).select(spark_partition_id().alias(\"pid\")).show()"
   ]
  },
  {
   "cell_type": "markdown",
   "id": "4f9f3148",
   "metadata": {},
   "source": [
    "### (Function) Greatest Value among lots of Columns\n",
    "- on Every Records"
   ]
  },
  {
   "cell_type": "code",
   "execution_count": 112,
   "id": "bb596ae5",
   "metadata": {},
   "outputs": [],
   "source": [
    "# the greatest numeric value among age, gp, pts columns\n",
    "\n",
    "# df.select(greatest(df.age, df.gp, df.pts)).show()"
   ]
  },
  {
   "cell_type": "markdown",
   "id": "28c1d719",
   "metadata": {},
   "source": [
    "### (Math) Test on Numeric Columns\n",
    "- [Document](https://spark.apache.org/docs/latest/api/python/reference/pyspark.sql/functions.html#math-functions)"
   ]
  },
  {
   "cell_type": "code",
   "execution_count": 113,
   "id": "247ae036",
   "metadata": {},
   "outputs": [],
   "source": [
    "# numeric to binary\n",
    "\n",
    "# df.select(bin(df.age).alias(\"binary_col\")).show()"
   ]
  },
  {
   "cell_type": "markdown",
   "id": "0c0a8c7b",
   "metadata": {},
   "source": [
    "### (Date) Test on Date Columns\n",
    "- [Document](https://spark.apache.org/docs/latest/api/python/reference/pyspark.sql/functions.html#datetime-functions)"
   ]
  },
  {
   "cell_type": "code",
   "execution_count": 114,
   "id": "6fdfa3ee",
   "metadata": {},
   "outputs": [],
   "source": [
    "# df.printSchema()"
   ]
  },
  {
   "cell_type": "code",
   "execution_count": 115,
   "id": "e7174064",
   "metadata": {},
   "outputs": [],
   "source": [
    "# add months\n",
    "\n",
    "# df.select(add_months(current_date(), 2).alias(\"now\")).show()\n",
    "# df.select(add_months(current_timestamp(), 2).alias(\"now\")).show()"
   ]
  },
  {
   "cell_type": "code",
   "execution_count": 116,
   "id": "6530d065",
   "metadata": {},
   "outputs": [],
   "source": [
    "# add days\n",
    "\n",
    "# df.select(date_add(df.draft_year, 30)).show()"
   ]
  },
  {
   "cell_type": "code",
   "execution_count": 117,
   "id": "b62f7ff8",
   "metadata": {},
   "outputs": [],
   "source": [
    "# date format\n",
    "\n",
    "# df.select(date_format(df.draft_year, \"yyyy-MM-dd\")).show()"
   ]
  },
  {
   "cell_type": "markdown",
   "id": "e7b4f9bc",
   "metadata": {},
   "source": [
    "### Date Diff on Draft Year & Season"
   ]
  },
  {
   "cell_type": "code",
   "execution_count": 118,
   "id": "881eec4a",
   "metadata": {},
   "outputs": [],
   "source": [
    "df = df.withColumn(\"experience\", (datediff(df.season.substr(0, 4), df.draft_year) / 365))"
   ]
  },
  {
   "cell_type": "code",
   "execution_count": 119,
   "id": "88d91770",
   "metadata": {},
   "outputs": [],
   "source": [
    "df = df.withColumn(\"is_veteran\", df.experience > 10)"
   ]
  },
  {
   "cell_type": "code",
   "execution_count": 120,
   "id": "dead7fdd",
   "metadata": {},
   "outputs": [],
   "source": [
    "# automatic cast integer (dayofmonth) to string\n",
    "\n",
    "# df.select(when(df.draft_year != \"Undrafted\", dayofmonth(df.draft_year)).otherwise(df.draft_year).alias(\"day_of_month_draft_year\")).show()"
   ]
  },
  {
   "cell_type": "markdown",
   "id": "1802ffa9",
   "metadata": {},
   "source": [
    "### (Window) Window Test on `pts` of Every Teams"
   ]
  },
  {
   "cell_type": "code",
   "execution_count": 121,
   "id": "4d342ed9",
   "metadata": {},
   "outputs": [],
   "source": [
    "df_tmp = df.groupby(\"team_abbreviation\", \"season\").agg(avg(\"pts\").alias(\"avg_pts\"))"
   ]
  },
  {
   "cell_type": "code",
   "execution_count": 122,
   "id": "13c948f3",
   "metadata": {},
   "outputs": [
    {
     "name": "stdout",
     "output_type": "stream",
     "text": [
      "+-------+-----------------+------------------+----+\n",
      "| season|team_abbreviation|           avg_pts|rank|\n",
      "+-------+-----------------+------------------+----+\n",
      "|2021-22|              BKN|10.117647058823529|   1|\n",
      "|2021-22|              LAC|            9.8125|   1|\n",
      "|2021-22|              GSW|             9.125|   1|\n",
      "|2021-22|              CHA| 8.764705882352942|   1|\n",
      "|2021-22|              IND|              8.55|   1|\n",
      "|2021-22|              MIL| 8.526315789473685|   1|\n",
      "|2021-22|              HOU|               8.5|   1|\n",
      "|2021-22|              SAC|              8.35|   1|\n",
      "|2021-22|              LAL| 8.333333333333334|   1|\n",
      "|2021-22|              OKC|  8.26923076923077|   1|\n",
      "|2021-22|              MIN| 8.176470588235293|   1|\n",
      "|2021-22|              NOP| 8.166666666666666|   1|\n",
      "|2021-22|              POR| 7.958333333333333|   1|\n",
      "|2021-22|              ORL|7.9523809523809526|   1|\n",
      "|2021-22|              MIA|7.9523809523809526|   1|\n",
      "|2021-22|              DEN|              7.95|   1|\n",
      "|2021-22|              CHI|               7.9|   1|\n",
      "|2021-22|              CLE| 7.818181818181818|   1|\n",
      "|2021-22|              ATL| 7.714285714285714|   1|\n",
      "|2021-22|              TOR|               7.6|   1|\n",
      "+-------+-----------------+------------------+----+\n",
      "only showing top 20 rows\n",
      "\n"
     ]
    }
   ],
   "source": [
    "# rank based on avg_pts of every teams => pick 1st\n",
    "\n",
    "window_spec = Window.partitionBy(\"team_abbreviation\", \"season\").orderBy(df_tmp.avg_pts.desc())\n",
    "df_tmp = df_tmp.withColumn(\"rank\", rank().over(window_spec)).select(\"season\", \"team_abbreviation\", \"avg_pts\", \"rank\")\n",
    "df_tmp.filter(df_tmp.rank == 1).sort(desc(\"season\"), desc(\"avg_pts\")).show()"
   ]
  },
  {
   "cell_type": "markdown",
   "id": "121c4fac",
   "metadata": {},
   "source": [
    "### (Collection) Test on Sample Code in Document\n",
    "- filter with `UDF`\n",
    "- zip_with with `UDF`"
   ]
  },
  {
   "cell_type": "code",
   "execution_count": 123,
   "id": "5865a0b1",
   "metadata": {},
   "outputs": [],
   "source": [
    "# filter\n",
    "\n",
    "# df_tmp = spark.createDataFrame(\n",
    "#     [(1, [\"2018-09-20\",  \"2019-02-03\", \"2019-07-01\", \"2020-06-01\"])],\n",
    "#     (\"key\", \"values\")\n",
    "# )\n",
    "\n",
    "# # UDF\n",
    "# def after_second_quarter(x):\n",
    "#     return month(to_date(x)) > 6\n",
    "\n",
    "# df_tmp.select(\n",
    "#     filter(\"values\", after_second_quarter).alias(\"after_second_quarter\")\n",
    "# ).show(truncate=False)"
   ]
  },
  {
   "cell_type": "code",
   "execution_count": 124,
   "id": "7eabad4d",
   "metadata": {},
   "outputs": [],
   "source": [
    "# zip_with\n",
    "# df = spark.createDataFrame([(1, [\"foo\", \"bar\"], [1, 2, 3])], (\"id\", \"xs\", \"ys\"))\n",
    "\n",
    "# concat_ws\n",
    "# df.select(zip_with(\"xs\", \"ys\", lambda x, y: concat_ws(\"_\", x, y)).alias(\"xs_ys\")).show()"
   ]
  },
  {
   "cell_type": "markdown",
   "id": "bdd531c6",
   "metadata": {},
   "source": [
    "### (Agg) Frequently Used Functions"
   ]
  },
  {
   "cell_type": "code",
   "execution_count": 129,
   "id": "3c9147fc",
   "metadata": {},
   "outputs": [
    {
     "name": "stdout",
     "output_type": "stream",
     "text": [
      "+------------------------------------+\n",
      "|size(collect_set(team_abbreviation))|\n",
      "+------------------------------------+\n",
      "|                                  36|\n",
      "+------------------------------------+\n",
      "\n"
     ]
    }
   ],
   "source": [
    "# size => length of collection\n",
    "\n",
    "df.select(size(collect_set(df.team_abbreviation))).show()"
   ]
  },
  {
   "cell_type": "markdown",
   "id": "368cb0e0",
   "metadata": {},
   "source": [
    "### Check Latest Draft on Every Teams\n",
    "- e.g. NJN = New Jersey Nets `doesn't exist anymore`"
   ]
  },
  {
   "cell_type": "code",
   "execution_count": 131,
   "id": "95747287",
   "metadata": {},
   "outputs": [
    {
     "name": "stdout",
     "output_type": "stream",
     "text": [
      "+-----------------+-----------+\n",
      "|team_abbreviation|max(season)|\n",
      "+-----------------+-----------+\n",
      "|              WAS|    2021-22|\n",
      "|              VAN|    2000-01|\n",
      "|              UTA|    2021-22|\n",
      "|              TOR|    2021-22|\n",
      "|              SEA|    2007-08|\n",
      "|              SAS|    2021-22|\n",
      "|              SAC|    2021-22|\n",
      "|              POR|    2021-22|\n",
      "|              PHX|    2021-22|\n",
      "|              PHI|    2021-22|\n",
      "|              ORL|    2021-22|\n",
      "|              OKC|    2021-22|\n",
      "|              NYK|    2021-22|\n",
      "|              NOP|    2021-22|\n",
      "|              NOK|    2006-07|\n",
      "|              NOH|    2012-13|\n",
      "|              NJN|    2011-12|\n",
      "|              MIN|    2021-22|\n",
      "|              MIL|    2021-22|\n",
      "|              MIA|    2021-22|\n",
      "+-----------------+-----------+\n",
      "only showing top 20 rows\n",
      "\n"
     ]
    }
   ],
   "source": [
    "df.groupby(\"team_abbreviation\").agg(max(\"season\")).sort(desc(\"team_abbreviation\")).show()"
   ]
  },
  {
   "cell_type": "markdown",
   "id": "128f30eb",
   "metadata": {},
   "source": [
    "### Check Correlation on Height & Weight"
   ]
  },
  {
   "cell_type": "code",
   "execution_count": 133,
   "id": "f74c8340",
   "metadata": {},
   "outputs": [
    {
     "name": "stdout",
     "output_type": "stream",
     "text": [
      "+----------------------------------+\n",
      "|corr(player_height, player_weight)|\n",
      "+----------------------------------+\n",
      "|                0.8254213536883795|\n",
      "+----------------------------------+\n",
      "\n"
     ]
    }
   ],
   "source": [
    "# 0.82 (max 1)\n",
    "\n",
    "df.select(corr(df.player_height, df.player_weight)).show()"
   ]
  },
  {
   "cell_type": "code",
   "execution_count": 135,
   "id": "7b688b93",
   "metadata": {},
   "outputs": [
    {
     "name": "stdout",
     "output_type": "stream",
     "text": [
      "+---------------------------------+\n",
      "|count(DISTINCT team_abbreviation)|\n",
      "+---------------------------------+\n",
      "|                               36|\n",
      "+---------------------------------+\n",
      "\n"
     ]
    }
   ],
   "source": [
    "df.select(count_distinct(\"team_abbreviation\")).show()"
   ]
  },
  {
   "cell_type": "markdown",
   "id": "d177193a",
   "metadata": {},
   "source": [
    "### Check Statistics on Age\n",
    "- generally, kurtosis 3 = Normal Distribution\n",
    "- generally, skewness 0 = Symmetry Distribution\n",
    "- kurtosis = 첨도 (데이터 분포의 뾰족한 정도)\n",
    "- skewness = 왜도 (데이터 분포의 비대칭 정도)"
   ]
  },
  {
   "cell_type": "code",
   "execution_count": 141,
   "id": "beddd1ca",
   "metadata": {},
   "outputs": [
    {
     "name": "stdout",
     "output_type": "stream",
     "text": [
      "+------------------+\n",
      "|     kurtosis(age)|\n",
      "+------------------+\n",
      "|-0.239257737481414|\n",
      "+------------------+\n",
      "\n",
      "+------------------+\n",
      "|     skewness(age)|\n",
      "+------------------+\n",
      "|0.5606653734849604|\n",
      "+------------------+\n",
      "\n",
      "+----------------+\n",
      "|stddev_samp(age)|\n",
      "+----------------+\n",
      "|4.33586763083955|\n",
      "+----------------+\n",
      "\n"
     ]
    }
   ],
   "source": [
    "df.select(kurtosis(\"age\")).show()\n",
    "df.select(skewness(\"age\")).show()\n",
    "df.select(stddev(\"age\")).show()"
   ]
  },
  {
   "cell_type": "code",
   "execution_count": 139,
   "id": "fb94dda3",
   "metadata": {},
   "outputs": [
    {
     "name": "stdout",
     "output_type": "stream",
     "text": [
      "+--------+-----------------+\n",
      "|min(age)|         avg(age)|\n",
      "+--------+-----------------+\n",
      "|      18|27.08451848841934|\n",
      "+--------+-----------------+\n",
      "\n"
     ]
    }
   ],
   "source": [
    "df.agg(min(\"age\"), mean(\"age\")).show()"
   ]
  },
  {
   "cell_type": "markdown",
   "id": "8da8ec7a",
   "metadata": {},
   "source": [
    "### (Optional) Tracking Previous Value by Window"
   ]
  },
  {
   "cell_type": "code",
   "execution_count": 144,
   "id": "00a9ee08",
   "metadata": {},
   "outputs": [
    {
     "name": "stdout",
     "output_type": "stream",
     "text": [
      "+---+---+-------------+\n",
      "| c1| c2|previos_value|\n",
      "+---+---+-------------+\n",
      "|  a|  1|            0|\n",
      "|  a|  2|            1|\n",
      "|  a|  3|            2|\n",
      "|  b|  2|            0|\n",
      "|  b|  8|            2|\n",
      "+---+---+-------------+\n",
      "\n"
     ]
    }
   ],
   "source": [
    "# df_tmp = spark.createDataFrame([(\"a\", 1),\n",
    "#                             (\"a\", 2),\n",
    "#                             (\"a\", 3),\n",
    "#                             (\"b\", 8),\n",
    "#                             (\"b\", 2)], [\"c1\", \"c2\"])\n",
    "\n",
    "# w = Window.partitionBy(\"c1\").orderBy(\"c2\")\n",
    "\n",
    "# first result = 0\n",
    "# df_tmp.withColumn(\"previos_value\", lag(\"c2\", 1, 0).over(w)).show()"
   ]
  },
  {
   "cell_type": "markdown",
   "id": "67eed1cf",
   "metadata": {},
   "source": [
    "### (Optioanl) Deduplication within Specific Column\n",
    "- with `row_number()`\n",
    "    - Select First Record Condition `row_number == 1`"
   ]
  },
  {
   "cell_type": "code",
   "execution_count": null,
   "id": "97576661",
   "metadata": {},
   "outputs": [],
   "source": [
    "# df = spark.createDataFrame([(1, \"A\", \"2022-01-01\"),\n",
    "#                             (2, \"B\", \"2022-01-02\"),\n",
    "#                             (3, \"A\", \"2022-01-02\"),\n",
    "#                             (4, \"C\", \"2022-01-03\"),\n",
    "#                             (5, \"B\", \"2022-01-03\")],\n",
    "#                            [\"id\", \"group\", \"timestamp\"])\n",
    "\n",
    "# df_sorted = df.orderBy(desc(\"timestamp\"))\n",
    "# window_spec = Window.partitionBy(\"group\").orderBy(\"timestamp\")\n",
    "# df_with_row_number = df_sorted.withColumn(\"row_number\", row_number().over(window_spec))\n",
    "# df_first_distinct = df_with_row_number.filter(col(\"row_number\") == 1)\n",
    "\n",
    "# df_first_distinct.show()"
   ]
  },
  {
   "cell_type": "markdown",
   "id": "41d3b199",
   "metadata": {},
   "source": [
    "### Show Numbers after `.` on String-Numeric"
   ]
  },
  {
   "cell_type": "code",
   "execution_count": 146,
   "id": "2bee6438",
   "metadata": {},
   "outputs": [],
   "source": [
    "# df.select(format_number(\"pts\", 4)).show()"
   ]
  },
  {
   "cell_type": "code",
   "execution_count": 149,
   "id": "007a8543",
   "metadata": {},
   "outputs": [
    {
     "name": "stdout",
     "output_type": "stream",
     "text": [
      "+------------------------+\n",
      "|       format_string_col|\n",
      "+------------------------+\n",
      "|   Dennis Rodman는 36...|\n",
      "|    Dwayne Schintzius...|\n",
      "|  Earl Cureton는 39살...|\n",
      "| Ed O'Bannon는 24살이...|\n",
      "| Ed Pinckney는 34살이...|\n",
      "|   Eddie Johnson는 38...|\n",
      "| Eddie Jones는 25살이...|\n",
      "|   Elden Campbell는 2...|\n",
      "|    Eldridge Recasner...|\n",
      "|  Elliot Perry는 28살...|\n",
      "|   Elmer Bennett는 27...|\n",
      "|   Elmore Spencer는 2...|\n",
      "|   Emanual Davis는 28...|\n",
      "|   Ennis Whatley는 34...|\n",
      "|  Eric Leckner는 31살...|\n",
      "| Eric Mobley는 27살이...|\n",
      "|   Eric Montross는 25...|\n",
      "|  Eric Murdock는 29살...|\n",
      "|   Eric Piatkowski는 ...|\n",
      "|Eric Snow는 24살이고,...|\n",
      "+------------------------+\n",
      "only showing top 20 rows\n",
      "\n"
     ]
    }
   ],
   "source": [
    "# format string\n",
    "\n",
    "df.select(format_string(\"%s는 %d살이고, 키는 $fcm입니다.\", df.player_name, df.age, df.player_height).alias(\"format_string_col\")).show()"
   ]
  },
  {
   "cell_type": "code",
   "execution_count": 160,
   "id": "ad8e9860",
   "metadata": {},
   "outputs": [
    {
     "data": {
      "text/plain": [
       "[Row(format_string_col=[['Dennis', 'Rodman는', '36살이고', '키는', 'fcm입니다'], ['정보가', '도움이', '됐나요']])]"
      ]
     },
     "execution_count": 160,
     "metadata": {},
     "output_type": "execute_result"
    }
   ],
   "source": [
    "# sentence split based on `.`\n",
    "\n",
    "df.select(sentences(format_string(\"%s는 %d살이고, 키는 $fcm입니다. 정보가 도움이 됐나요?\", df.player_name, df.age, df.player_height)).alias(\"format_string_col\")).head(1)"
   ]
  },
  {
   "cell_type": "markdown",
   "id": "f99c43fb",
   "metadata": {},
   "source": [
    "### Check Locate on String Column"
   ]
  },
  {
   "cell_type": "code",
   "execution_count": 152,
   "id": "482e5d61",
   "metadata": {},
   "outputs": [],
   "source": [
    "# first index = 1\n",
    "\n",
    "# df.select(locate(\"Rodman\", df.player_name, 1)).show()"
   ]
  },
  {
   "cell_type": "markdown",
   "id": "c096db86",
   "metadata": {},
   "source": [
    "### Filter by RegExp on String Column"
   ]
  },
  {
   "cell_type": "code",
   "execution_count": 154,
   "id": "fd4a0713",
   "metadata": {},
   "outputs": [],
   "source": [
    "# col, pattern, idx\n",
    "\n",
    "# df.filter(regexp_extract(\"player_name\", \"Curry\", 0) != '').show()"
   ]
  },
  {
   "cell_type": "markdown",
   "id": "9de13b53",
   "metadata": {},
   "source": [
    "### Translate Test on String Column\n",
    "- `If this is shorter than matching string then those chars that don’t have replacement will be dropped.`"
   ]
  },
  {
   "cell_type": "code",
   "execution_count": 163,
   "id": "e26f9ad3",
   "metadata": {},
   "outputs": [
    {
     "name": "stdout",
     "output_type": "stream",
     "text": [
      "+------------------------------------+\n",
      "|translate(player_name, Rodman, Park)|\n",
      "+------------------------------------+\n",
      "|                           Deis Park|\n",
      "|                      Dwye Schitzius|\n",
      "|                          Erl Cureta|\n",
      "|                             Er O'Ba|\n",
      "|                           Er Pickey|\n",
      "|                         Errie Jahsa|\n",
      "|                          Errie Jaes|\n",
      "|                        Elre Ckpbell|\n",
      "|                     Elrrirge Pecser|\n",
      "|                        Elliat Perry|\n",
      "|                         Elker Beett|\n",
      "|                       Elkare Specer|\n",
      "|                           Ekul Dvis|\n",
      "|                          Eis Whtley|\n",
      "|                         Eric Lecker|\n",
      "|                         Eric Mabley|\n",
      "|                        Eric Matrass|\n",
      "|                        Eric Murrack|\n",
      "|                      Eric Pitkawski|\n",
      "|                            Eric Saw|\n",
      "+------------------------------------+\n",
      "only showing top 20 rows\n",
      "\n"
     ]
    }
   ],
   "source": [
    "df.select(translate(\"player_name\", \"Rodman\", \"Park\")).show()"
   ]
  },
  {
   "cell_type": "markdown",
   "id": "813b7ce9",
   "metadata": {},
   "source": [
    "### (Optional) DayTimeIntervalType\n",
    "- not Working in Spark v3.2.0"
   ]
  },
  {
   "cell_type": "code",
   "execution_count": 126,
   "id": "f116cb76",
   "metadata": {},
   "outputs": [],
   "source": [
    "# schema = StructType([\n",
    "#     StructField(\"job_id\", IntegerType(), False),\n",
    "#     StructField(\"start_time\", DayTimeIntervalType(), False),\n",
    "#     StructField(\"end_time\", DayTimeIntervalType(), False)\n",
    "# ])"
   ]
  }
 ],
 "metadata": {
  "kernelspec": {
   "display_name": "Python 3 (ipykernel)",
   "language": "python",
   "name": "python3"
  },
  "language_info": {
   "codemirror_mode": {
    "name": "ipython",
    "version": 3
   },
   "file_extension": ".py",
   "mimetype": "text/x-python",
   "name": "python",
   "nbconvert_exporter": "python",
   "pygments_lexer": "ipython3",
   "version": "3.9.2"
  }
 },
 "nbformat": 4,
 "nbformat_minor": 5
}
